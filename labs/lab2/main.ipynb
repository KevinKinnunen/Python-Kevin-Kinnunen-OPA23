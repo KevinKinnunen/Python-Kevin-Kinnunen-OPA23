{
 "cells": [
  {
   "cell_type": "markdown",
   "metadata": {},
   "source": [
    "# Task 0 - Warm up with the nation\n",
    "## Imports"
   ]
  },
  {
   "cell_type": "code",
   "execution_count": 347,
   "metadata": {},
   "outputs": [],
   "source": [
    "# visualize using matplotlib and/or seaborn\n",
    "import pandas as pd\n",
    "import matplotlib.pyplot as plt\n",
    "import seaborn as sns\n",
    "import os"
   ]
  },
  {
   "cell_type": "markdown",
   "metadata": {},
   "source": [
    "## Data paths"
   ]
  },
  {
   "cell_type": "code",
   "execution_count": 348,
   "metadata": {},
   "outputs": [],
   "source": [
    "data_paths = {\n",
    "    'riket2023_åk9_np': \"data/riket2023_åk9_np.xlsx\",\n",
    "    'betyg_o_prov_riksnivå': \"data/betyg_o_prov_riksnivå.xlsx\",\n",
    "    'visualizations': \"visualizations\"\n",
    "}\n",
    "\n",
    "nationwide2023_grade9_nt = data_paths['riket2023_åk9_np']\n",
    "grades_and_tests_national_level = data_paths['betyg_o_prov_riksnivå']\n",
    "visualizations = data_paths['visualizations']"
   ]
  },
  {
   "cell_type": "markdown",
   "metadata": {},
   "source": [
    "# Read and process Excel file"
   ]
  },
  {
   "cell_type": "code",
   "execution_count": 349,
   "metadata": {},
   "outputs": [
    {
     "data": {
      "text/html": [
       "<div>\n",
       "<style scoped>\n",
       "    .dataframe tbody tr th:only-of-type {\n",
       "        vertical-align: middle;\n",
       "    }\n",
       "\n",
       "    .dataframe tbody tr th {\n",
       "        vertical-align: top;\n",
       "    }\n",
       "\n",
       "    .dataframe thead th {\n",
       "        text-align: right;\n",
       "    }\n",
       "</style>\n",
       "<table border=\"1\" class=\"dataframe\">\n",
       "  <thead>\n",
       "    <tr style=\"text-align: right;\">\n",
       "      <th></th>\n",
       "      <th>Plats</th>\n",
       "      <th>Huvudman</th>\n",
       "      <th>Totalt (A-F)</th>\n",
       "      <th>Flickor (A-F)</th>\n",
       "      <th>Pojkar (A-F)</th>\n",
       "      <th>Totalt (A-E)</th>\n",
       "      <th>Flickor (A-E)</th>\n",
       "      <th>Pojkar (A-E)</th>\n",
       "      <th>Totalt (Poäng)</th>\n",
       "      <th>Flickor (Poäng)</th>\n",
       "      <th>Pojkar (Poäng)</th>\n",
       "    </tr>\n",
       "  </thead>\n",
       "  <tbody>\n",
       "    <tr>\n",
       "      <th>0</th>\n",
       "      <td>Riket</td>\n",
       "      <td>Samtliga</td>\n",
       "      <td>106766</td>\n",
       "      <td>51548</td>\n",
       "      <td>55218</td>\n",
       "      <td>89.1</td>\n",
       "      <td>88.7</td>\n",
       "      <td>89.5</td>\n",
       "      <td>11.9</td>\n",
       "      <td>11.8</td>\n",
       "      <td>12.0</td>\n",
       "    </tr>\n",
       "    <tr>\n",
       "      <th>1</th>\n",
       "      <td>Riket</td>\n",
       "      <td>Kommunal</td>\n",
       "      <td>84163</td>\n",
       "      <td>40386</td>\n",
       "      <td>43777</td>\n",
       "      <td>88.1</td>\n",
       "      <td>87.7</td>\n",
       "      <td>88.5</td>\n",
       "      <td>11.6</td>\n",
       "      <td>11.5</td>\n",
       "      <td>11.7</td>\n",
       "    </tr>\n",
       "    <tr>\n",
       "      <th>2</th>\n",
       "      <td>Riket</td>\n",
       "      <td>Enskild</td>\n",
       "      <td>22553</td>\n",
       "      <td>11137</td>\n",
       "      <td>11416</td>\n",
       "      <td>92.9</td>\n",
       "      <td>92.2</td>\n",
       "      <td>93.5</td>\n",
       "      <td>13.0</td>\n",
       "      <td>12.8</td>\n",
       "      <td>13.1</td>\n",
       "    </tr>\n",
       "    <tr>\n",
       "      <th>3</th>\n",
       "      <td>Riket</td>\n",
       "      <td>Skolverket</td>\n",
       "      <td>50</td>\n",
       "      <td>25</td>\n",
       "      <td>25</td>\n",
       "      <td>~100</td>\n",
       "      <td>~100</td>\n",
       "      <td>~100</td>\n",
       "      <td>14.1</td>\n",
       "      <td>13.5</td>\n",
       "      <td>14.7</td>\n",
       "    </tr>\n",
       "  </tbody>\n",
       "</table>\n",
       "</div>"
      ],
      "text/plain": [
       "   Plats    Huvudman  Totalt (A-F)  Flickor (A-F)  Pojkar (A-F) Totalt (A-E)  \\\n",
       "0  Riket    Samtliga        106766          51548         55218         89.1   \n",
       "1  Riket    Kommunal         84163          40386         43777         88.1   \n",
       "2  Riket     Enskild         22553          11137         11416         92.9   \n",
       "3  Riket  Skolverket            50             25            25         ~100   \n",
       "\n",
       "  Flickor (A-E) Pojkar (A-E)  Totalt (Poäng)  Flickor (Poäng)  Pojkar (Poäng)  \n",
       "0          88.7         89.5            11.9             11.8            12.0  \n",
       "1          87.7         88.5            11.6             11.5            11.7  \n",
       "2          92.2         93.5            13.0             12.8            13.1  \n",
       "3          ~100         ~100            14.1             13.5            14.7  "
      ]
     },
     "execution_count": 349,
     "metadata": {},
     "output_type": "execute_result"
    }
   ],
   "source": [
    "# Define the sheet names\n",
    "sheet_names = ['Engelska', 'Matematik', 'Svenska', 'Svenska som andraspråk']\n",
    "\n",
    "# Initialize an empty dictionary to store DataFrames for each sheet\n",
    "dfs = {}\n",
    "\n",
    "# Loop through the sheet names and read each sheet into a DataFrame\n",
    "for sheet_name in sheet_names:\n",
    "    df = pd.read_excel(nationwide2023_grade9_nt, skiprows=8, sheet_name=sheet_name)\n",
    "    \n",
    "    # Rename the columns directly\n",
    "    df.columns = [\n",
    "        \"Plats\", \"Huvudman\",\n",
    "        \"Totalt (A-F)\", \"Flickor (A-F)\", \"Pojkar (A-F)\",\n",
    "        \"Totalt (A-E)\", \"Flickor (A-E)\", \"Pojkar (A-E)\",\n",
    "        \"Totalt (Poäng)\", \"Flickor (Poäng)\", \"Pojkar (Poäng)\"\n",
    "    ]\n",
    "    \n",
    "    # Store the DataFrame in the dictionary\n",
    "    dfs[sheet_name] = df # dfs contains DataFrames for each sheet with the correct column names\n",
    "\n",
    "# Access the DataFrame sheet for the subjects:\n",
    "df_english = dfs['Engelska'].head()\n",
    "df_math = dfs['Matematik'].head()\n",
    "df_swedish = dfs['Svenska'].head()\n",
    "df_swedish_as_secondlang = dfs['Svenska som andraspråk'].head()\n",
    "\n",
    "# Output test\n",
    "df_math.head()"
   ]
  },
  {
   "cell_type": "markdown",
   "metadata": {},
   "source": [
    "## Quantity of students having an F in math: Total, Boys, Girls"
   ]
  },
  {
   "cell_type": "code",
   "execution_count": 356,
   "metadata": {},
   "outputs": [
    {
     "name": "stdout",
     "output_type": "stream",
     "text": [
      "Total:11637.494000000006\n",
      "Girls:5824.923999999999\n",
      "Boys:5797.889999999999\n"
     ]
    }
   ],
   "source": [
    "total_ae_nmr = df_math['Totalt (A-F)'][0] * (df_math['Totalt (A-E)'][0] / 100)  # 106766 * 0.891 = 95128.506 (total number of students with grades A-E)\n",
    "quantity_f_total = df_math['Totalt (A-F)'][0] - total_ae_nmr  # 106766 - 95128.506 = 11637.493 (total F quantity)\n",
    "\n",
    "girls_ae_nmr = df_math['Flickor (A-F)'][0] * (df_math['Flickor (A-E)'][0] / 100)  # 51548 * 0.887 = 45723.076 (number of girls with grades A-E)\n",
    "quantity_f_girls = df_math['Flickor (A-F)'][0] - girls_ae_nmr  # 51548 - 45723.076 = 5824.924 (total F quantity for girls)\n",
    "\n",
    "boys_ae_nmr = df_math['Pojkar (A-F)'][0] * (df_math['Pojkar (A-E)'][0] / 100)  # 55218 * 0.895 = 49420.11 (number of boys with grades A-E)\n",
    "quantity_f_boys = df_math['Pojkar (A-F)'][0] - boys_ae_nmr  # 55218 - 49420.11 = 5797.89 (total F quantity for boys)\n",
    "\n",
    "# Outputting the values.\n",
    "print(f\"Total:{quantity_f_total}\\nGirls:{quantity_f_girls}\\nBoys:{quantity_f_boys}\")"
   ]
  },
  {
   "cell_type": "markdown",
   "metadata": {},
   "source": [
    "## Plotting bar chart for total points for the different subjects."
   ]
  },
  {
   "cell_type": "code",
   "execution_count": 351,
   "metadata": {},
   "outputs": [
    {
     "name": "stdout",
     "output_type": "stream",
     "text": [
      "15.7, 11.9, 13.6, 9.4\n"
     ]
    },
    {
     "data": {
      "image/png": "[encoded data removed]",
      "text/plain": [
       "<Figure size 1000x600 with 1 Axes>"
      ]
     },
     "metadata": {},
     "output_type": "display_data"
    }
   ],
   "source": [
    "# Total points of the total students in 9th grade\n",
    "total_points_english = df_english['Totalt (Poäng)'][0] \n",
    "total_points_math = df_math['Totalt (Poäng)'][0]\n",
    "total_points_swe = df_swedish['Totalt (Poäng)'][0]\n",
    "total_points_swe_as_seclang = df_swedish_as_secondlang['Totalt (Poäng)'][0]\n",
    "\n",
    "print(f\"{total_points_english}, {total_points_math}, {total_points_swe}, {total_points_swe_as_seclang}\")\n",
    "\n",
    "total_points = [total_points_english, total_points_math, total_points_swe, total_points_swe_as_seclang]  # Values\n",
    "categories = sheet_names # Subjects\n",
    "\n",
    "# Define colors for each bar\n",
    "colors = ['blue', 'green', 'orange', 'red']\n",
    "\n",
    "# Adjusting figure size\n",
    "plt.figure(figsize=(10, 6))\n",
    "\n",
    "plt.bar(categories, total_points, color=colors)\n",
    "\n",
    "plt.title('Total points for all 9th-grade students across subjects...')\n",
    "plt.xlabel('Subjects') # Title is already clear enough\n",
    "plt.ylabel('Points') # Title is already clear enough\n",
    "\n",
    "# Save graph as a PNG file with color\n",
    "plt.savefig('visualizations/total_points_for_subjects(A-F).png', bbox_inches='tight', facecolor='white')\n",
    "\n",
    "# Show the graph\n",
    "plt.show()"
   ]
  }
 ],
 "metadata": {
  "kernelspec": {
   "display_name": ".venv",
   "language": "python",
   "name": "python3"
  },
  "language_info": {
   "codemirror_mode": {
    "name": "ipython",
    "version": 3
   },
   "file_extension": ".py",
   "mimetype": "text/x-python",
   "name": "python",
   "nbconvert_exporter": "python",
   "pygments_lexer": "ipython3",
   "version": "3.11.8"
  }
 },
 "nbformat": 4,
 "nbformat_minor": 2
}
